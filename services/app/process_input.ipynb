{
 "cells": [
  {
   "cell_type": "code",
   "execution_count": 1,
   "metadata": {},
   "outputs": [
    {
     "name": "stderr",
     "output_type": "stream",
     "text": [
      "2023-09-27 18:42:08.688307: I tensorflow/core/util/port.cc:110] oneDNN custom operations are on. You may see slightly different numerical results due to floating-point round-off errors from different computation orders. To turn them off, set the environment variable `TF_ENABLE_ONEDNN_OPTS=0`.\n",
      "2023-09-27 18:42:08.757006: I tensorflow/core/platform/cpu_feature_guard.cc:182] This TensorFlow binary is optimized to use available CPU instructions in performance-critical operations.\n",
      "To enable the following instructions: SSE4.1 SSE4.2 AVX AVX2 AVX_VNNI FMA, in other operations, rebuild TensorFlow with the appropriate compiler flags.\n",
      "2023-09-27 18:42:11.217032: I tensorflow/compiler/xla/stream_executor/cuda/cuda_gpu_executor.cc:982] could not open file to read NUMA node: /sys/bus/pci/devices/0000:01:00.0/numa_node\n",
      "Your kernel may have been built without NUMA support.\n",
      "2023-09-27 18:42:11.247049: I tensorflow/compiler/xla/stream_executor/cuda/cuda_gpu_executor.cc:982] could not open file to read NUMA node: /sys/bus/pci/devices/0000:01:00.0/numa_node\n",
      "Your kernel may have been built without NUMA support.\n",
      "2023-09-27 18:42:11.247114: I tensorflow/compiler/xla/stream_executor/cuda/cuda_gpu_executor.cc:982] could not open file to read NUMA node: /sys/bus/pci/devices/0000:01:00.0/numa_node\n",
      "Your kernel may have been built without NUMA support.\n",
      "/tmp/ipykernel_198404/2286408847.py:20: TqdmDeprecationWarning: This function will be removed in tqdm==5.0.0\n",
      "Please use `tqdm.notebook.tqdm` instead of `tqdm.tqdm_notebook`\n",
      "  tqdm().pandas()\n"
     ]
    },
    {
     "data": {
      "application/vnd.jupyter.widget-view+json": {
       "model_id": "26960caa7b48450487e99dc7c63d0017",
       "version_major": 2,
       "version_minor": 0
      },
      "text/plain": [
       "0it [00:00, ?it/s]"
      ]
     },
     "metadata": {},
     "output_type": "display_data"
    }
   ],
   "source": [
    "import numpy as np\n",
    "import pandas as pd\n",
    "import re\n",
    "# from spellchecker import SpellChecker\n",
    "\n",
    "from sklearn.feature_extraction.text import CountVectorizer\n",
    "\n",
    "import matplotlib.pyplot as plt\n",
    "import seaborn as sns\n",
    "\n",
    "import spacy\n",
    "from spacy.matcher import Matcher\n",
    "from spacy.language import Language\n",
    "# from spacymoji import Emoji\n",
    "from spacy.tokens import Doc\n",
    "\n",
    "nlp = spacy.load(\"en_core_web_sm\")\n",
    "\n",
    "from tqdm import tqdm_notebook as tqdm\n",
    "tqdm().pandas()"
   ]
  },
  {
   "cell_type": "markdown",
   "metadata": {},
   "source": [
    "Read the data as a dataframe and return inbound as a Pandas series containing user inputs to be tokenized"
   ]
  },
  {
   "cell_type": "code",
   "execution_count": 2,
   "metadata": {},
   "outputs": [
    {
     "name": "stdout",
     "output_type": "stream",
     "text": [
      "CPU times: user 19.1 ms, sys: 9.6 ms, total: 28.7 ms\n",
      "Wall time: 38 ms\n"
     ]
    },
    {
     "name": "stderr",
     "output_type": "stream",
     "text": [
      "<timed exec>:8: FutureWarning: Styler.applymap has been deprecated. Use Styler.map instead.\n"
     ]
    },
    {
     "data": {
      "text/html": [
       "<style type=\"text/css\">\n",
       "#T_bcdbf_row0_col0, #T_bcdbf_row0_col1, #T_bcdbf_row1_col0, #T_bcdbf_row1_col1, #T_bcdbf_row2_col0, #T_bcdbf_row2_col1, #T_bcdbf_row3_col0, #T_bcdbf_row3_col1, #T_bcdbf_row4_col0, #T_bcdbf_row4_col1 {\n",
       "  background-color: black;\n",
       "  color: lawngreen;\n",
       "  border-color: white;\n",
       "  color: lawngreen;\n",
       "}\n",
       "#T_bcdbf_row0_col2 {\n",
       "  background-color: black;\n",
       "  color: lawngreen;\n",
       "  border-color: white;\n",
       "  color: cyan;\n",
       "  background-color: #2777b8;\n",
       "  color: #f1f1f1;\n",
       "}\n",
       "#T_bcdbf_row1_col2 {\n",
       "  background-color: black;\n",
       "  color: lawngreen;\n",
       "  border-color: white;\n",
       "  color: cyan;\n",
       "  background-color: #f7fbff;\n",
       "  color: #000000;\n",
       "}\n",
       "#T_bcdbf_row2_col2 {\n",
       "  background-color: black;\n",
       "  color: lawngreen;\n",
       "  border-color: white;\n",
       "  color: cyan;\n",
       "  background-color: #bed8ec;\n",
       "  color: #000000;\n",
       "}\n",
       "#T_bcdbf_row3_col2 {\n",
       "  background-color: black;\n",
       "  color: lawngreen;\n",
       "  border-color: white;\n",
       "  color: cyan;\n",
       "  background-color: #08306b;\n",
       "  color: #f1f1f1;\n",
       "}\n",
       "#T_bcdbf_row4_col2 {\n",
       "  background-color: black;\n",
       "  color: lawngreen;\n",
       "  border-color: white;\n",
       "  color: cyan;\n",
       "  background-color: #1c6ab0;\n",
       "  color: #f1f1f1;\n",
       "}\n",
       "</style>\n",
       "<table id=\"T_bcdbf\">\n",
       "  <thead>\n",
       "    <tr>\n",
       "      <th class=\"blank level0\" >&nbsp;</th>\n",
       "      <th id=\"T_bcdbf_level0_col0\" class=\"col_heading level0 col0\" >Intent</th>\n",
       "      <th id=\"T_bcdbf_level0_col1\" class=\"col_heading level0 col1\" >Input</th>\n",
       "      <th id=\"T_bcdbf_level0_col2\" class=\"col_heading level0 col2\" >Random sort</th>\n",
       "    </tr>\n",
       "  </thead>\n",
       "  <tbody>\n",
       "    <tr>\n",
       "      <th id=\"T_bcdbf_level0_row0\" class=\"row_heading level0 row0\" >637</th>\n",
       "      <td id=\"T_bcdbf_row0_col0\" class=\"data row0 col0\" >Others</td>\n",
       "      <td id=\"T_bcdbf_row0_col1\" class=\"data row0 col1\" >Hey, I'm taking a sick day from school because of a doctor's appointment.</td>\n",
       "      <td id=\"T_bcdbf_row0_col2\" class=\"data row0 col2\" >0.811353</td>\n",
       "    </tr>\n",
       "    <tr>\n",
       "      <th id=\"T_bcdbf_level0_row1\" class=\"row_heading level0 row1\" >638</th>\n",
       "      <td id=\"T_bcdbf_row1_col0\" class=\"data row1 col0\" >Others</td>\n",
       "      <td id=\"T_bcdbf_row1_col1\" class=\"data row1 col1\" >Right-click context menu not appearing when tapping the touchpad.</td>\n",
       "      <td id=\"T_bcdbf_row1_col2\" class=\"data row1 col2\" >0.479299</td>\n",
       "    </tr>\n",
       "    <tr>\n",
       "      <th id=\"T_bcdbf_level0_row2\" class=\"row_heading level0 row2\" >639</th>\n",
       "      <td id=\"T_bcdbf_row2_col0\" class=\"data row2 col0\" >Others</td>\n",
       "      <td id=\"T_bcdbf_row2_col1\" class=\"data row2 col1\" >My Apple Pencil is not in working condition.</td>\n",
       "      <td id=\"T_bcdbf_row2_col2\" class=\"data row2 col2\" >0.604403</td>\n",
       "    </tr>\n",
       "    <tr>\n",
       "      <th id=\"T_bcdbf_level0_row3\" class=\"row_heading level0 row3\" >640</th>\n",
       "      <td id=\"T_bcdbf_row3_col0\" class=\"data row3 col0\" >Others</td>\n",
       "      <td id=\"T_bcdbf_row3_col1\" class=\"data row3 col1\" >Software update needed to fix internet connectivity issues on the laptop.</td>\n",
       "      <td id=\"T_bcdbf_row3_col2\" class=\"data row3 col2\" >0.936502</td>\n",
       "    </tr>\n",
       "    <tr>\n",
       "      <th id=\"T_bcdbf_level0_row4\" class=\"row_heading level0 row4\" >641</th>\n",
       "      <td id=\"T_bcdbf_row4_col0\" class=\"data row4 col0\" >Others</td>\n",
       "      <td id=\"T_bcdbf_row4_col1\" class=\"data row4 col1\" >Incorrect Wi-Fi password entered on the iPad.</td>\n",
       "      <td id=\"T_bcdbf_row4_col2\" class=\"data row4 col2\" >0.833335</td>\n",
       "    </tr>\n",
       "  </tbody>\n",
       "</table>\n"
      ],
      "text/plain": [
       "<pandas.io.formats.style.Styler at 0x7f2dcad82410>"
      ]
     },
     "execution_count": 2,
     "metadata": {},
     "output_type": "execute_result"
    }
   ],
   "source": [
    "%%time\n",
    "\n",
    "import pandas as pd\n",
    "\n",
    "data = pd.read_csv('common_issues.csv', encoding='utf-8')\n",
    "\n",
    "show = lambda x: x.tail(5).style.set_properties(**{'background-color': 'black', \n",
    "    'color': 'lawngreen',                       \n",
    "    'border-color': 'white'})\\\n",
    ".applymap(lambda x: f\"color: {'lawngreen' if isinstance(x,str) else 'cyan'}\")\\\n",
    ".background_gradient(cmap='Blues')\n",
    "\n",
    "inbound = data['Input']\n",
    "\n",
    "show(data)"
   ]
  },
  {
   "cell_type": "markdown",
   "metadata": {},
   "source": [
    "Plot count vectorization (bags of words)"
   ]
  },
  {
   "cell_type": "code",
   "execution_count": 3,
   "metadata": {},
   "outputs": [
    {
     "name": "stderr",
     "output_type": "stream",
     "text": [
      "/home/rachtrx/anaconda3/envs/chatbot/lib/python3.11/site-packages/seaborn/_oldcore.py:1498: FutureWarning: is_categorical_dtype is deprecated and will be removed in a future version. Use isinstance(dtype, CategoricalDtype) instead\n",
      "  if pd.api.types.is_categorical_dtype(vector):\n",
      "/home/rachtrx/anaconda3/envs/chatbot/lib/python3.11/site-packages/seaborn/_oldcore.py:1498: FutureWarning: is_categorical_dtype is deprecated and will be removed in a future version. Use isinstance(dtype, CategoricalDtype) instead\n",
      "  if pd.api.types.is_categorical_dtype(vector):\n",
      "/home/rachtrx/anaconda3/envs/chatbot/lib/python3.11/site-packages/seaborn/_oldcore.py:1498: FutureWarning: is_categorical_dtype is deprecated and will be removed in a future version. Use isinstance(dtype, CategoricalDtype) instead\n",
      "  if pd.api.types.is_categorical_dtype(vector):\n"
     ]
    },
    {
     "data": {
      "image/png": "[encoded data removed]",
      "text/plain": [
       "<Figure size 1200x600 with 1 Axes>"
      ]
     },
     "metadata": {},
     "output_type": "display_data"
    }
   ],
   "source": [
    "# Writing a function to plot the counts that are in the data\n",
    "\n",
    "\n",
    "\n",
    "def top10_bagofwords(data, output_name, title):\n",
    "    ''' Taking as input the data and plots the top 10 words based on counts in this text data'''\n",
    "    cv = CountVectorizer()\n",
    "    inbound = cv.fit_transform(data)\n",
    "    inbound # Output will be a sparse matrix\n",
    "    # Inspecting of often contractions and colloquial language is used\n",
    "    word_counts = np.array(np.sum(inbound, axis=0)).reshape((-1,)) # convert to 2D numpy array and get sum along columns, then convert to 1D array\n",
    "    words = np.array(cv.get_feature_names_out()) # get the columns (features)\n",
    "    words_df = pd.DataFrame({\"word\":words, \n",
    "                             \"count\":word_counts})\n",
    "    words_rank = words_df.sort_values(by=\"count\", ascending=False)\n",
    "    # words_rank.to_csv('words_rank.csv') # Storing it in a csv so I can inspect and go through it myself\n",
    "    words_rank.head()\n",
    "    # Visualizing top 10 words\n",
    "    plt.figure(figsize=(12,6))\n",
    "    sns.barplot(x=words_rank['word'][:10], y=words_rank['count'][:10].astype(int), palette='inferno')\n",
    "    plt.title(title)\n",
    "    \n",
    "    # Saving\n",
    "    # plt.savefig(f'visualizations/{output_name}.png')\n",
    "    \n",
    "    plt.show()\n",
    "\n",
    "top10_bagofwords(inbound, 'most_common_before' ,'Top 10 Most Common Words in My Inbound Data Before Preprocessing')"
   ]
  },
  {
   "cell_type": "markdown",
   "metadata": {},
   "source": [
    "# Data Processing"
   ]
  },
  {
   "cell_type": "code",
   "execution_count": 4,
   "metadata": {},
   "outputs": [
    {
     "data": {
      "image/png": "[encoded data removed]",
      "text/plain": [
       "<Figure size 1300x600 with 1 Axes>"
      ]
     },
     "metadata": {},
     "output_type": "display_data"
    }
   ],
   "source": [
    "def visualize_lengths(data,title):\n",
    "    '''Visualizing lengths of tokens in each tweet'''\n",
    "    lengths = [len(i) for i in data]\n",
    "    plt.figure(figsize=(13,6))\n",
    "    plt.hist(lengths, bins = 40)\n",
    "    plt.title(title)\n",
    "    plt.show()\n",
    "\n",
    "visualize_lengths(inbound, \"Length of inputs\")\n"
   ]
  },
  {
   "cell_type": "code",
   "execution_count": 5,
   "metadata": {},
   "outputs": [],
   "source": [
    "puncts = ['\\u200d','?', '....','..','...','','@','#', ',', '.', '\"', ':', ')', '(', '-', '!', '|', ';', \"'\", '$', '&', '/', '[', ']', '>', '%', '=', '*', '+', '\\\\', \n",
    "    '•', '~', '£', '·', '_', '{', '}', '©', '^', '®', '`',  '<', '→', '°', '€', '™', '›',  '♥', '←', '×', '§', '″', '′', 'Â', '█', \n",
    "    '½', 'à', '…', '“', '★', '”', '–', '●', 'â', '►', '−', '¢', '²', '¬', '░', '¶', '↑', '±', '¿', '▾', '═', '¦', '║', '―', '¥', '▓', \n",
    "    '—', '‹', '─', '▒', '：', '¼', '⊕', '▼', '▪', '†', '■', '’', '▀', '¨', '▄', '♫', '☆', 'é', '¯', '♦', '¤', '▲', 'è', '¸', '¾', \n",
    "    'Ã', '⋅', '‘', '∞', '∙', '）', '↓', '、', '│', '（', '»', '，', '♪', '╩', '╚', '³', '・', '╦', '╣', '╔', '╗', '▬', '❤', 'ï', 'Ø', \n",
    "    '¹', '≤', '‡', '√', '!','🅰','🅱']\n",
    "\n",
    "contraction_colloq_dict = {\"btw\": \"by the way\", \"ain't\": \"is not\", \"aren't\": \"are not\",\"can't\": \"cannot\", \"'cause\": \"because\", \"could've\": \"could have\", \"couldn't\": \"could not\", \"didn't\": \"did not\",  \"doesn't\": \"does not\", \"don't\": \"do not\", \"hadn't\": \"had not\", \"hasn't\": \"has not\", \"haven't\": \"have not\", \"he'd\": \"he would\",\"he'll\": \"he will\", \"he's\": \"he is\", \"how'd\": \"how did\", \"how'd'y\": \"how do you\", \"how'll\": \"how will\", \"how's\": \"how is\",  \"I'd\": \"I would\", \"I'd've\": \"I would have\", \"I'll\": \"I will\", \"I'll've\": \"I will have\",\"I'm\": \"I am\", \"I've\": \"I have\", \"i'd\": \"i would\", \"i'd've\": \"i would have\", \"i'll\": \"i will\",  \"i'll've\": \"i will have\",\"i'm\": \"i am\", \"i've\": \"i have\", \"isn't\": \"is not\", \"it'd\": \"it would\", \"it'd've\": \"it would have\", \"it'll\": \"it will\", \"it'll've\": \"it will have\",\"it's\": \"it is\", \"let's\": \"let us\", \"ma'am\": \"madam\", \"mayn't\": \"may not\", \"might've\": \"might have\",\"mightn't\": \"might not\",\"mightn't've\": \"might not have\", \"must've\": \"must have\", \"mustn't\": \"must not\", \"mustn't've\": \"must not have\", \"needn't\": \"need not\", \"needn't've\": \"need not have\",\"o'clock\": \"of the clock\", \"oughtn't\": \"ought not\", \"oughtn't've\": \"ought not have\", \"shan't\": \"shall not\", \"sha'n't\": \"shall not\", \"shan't've\": \"shall not have\", \"she'd\": \"she would\", \"she'd've\": \"she would have\", \"she'll\": \"she will\", \"she'll've\": \"she will have\", \"she's\": \"she is\", \"should've\": \"should have\", \"shouldn't\": \"should not\", \"shouldn't've\": \"should not have\", \"so've\": \"so have\",\"so's\": \"so as\", \"this's\": \"this is\",\"that'd\": \"that would\", \"that'd've\": \"that would have\", \"that's\": \"that is\", \"there'd\": \"there would\", \"there'd've\": \"there would have\", \"there's\": \"there is\", \"here's\": \"here is\",\"they'd\": \"they would\", \"they'd've\": \"they would have\", \"they'll\": \"they will\", \"they'll've\": \"they will have\", \"they're\": \"they are\", \"they've\": \"they have\", \"to've\": \"to have\", \"wasn't\": \"was not\", \"we'd\": \"we would\", \"we'd've\": \"we would have\", \"we'll\": \"we will\", \"we'll've\": \"we will have\", \"we're\": \"we are\", \"we've\": \"we have\", \"weren't\": \"were not\", \"what'll\": \"what will\", \"what'll've\": \"what will have\", \"what're\": \"what are\",  \"what's\": \"what is\", \"what've\": \"what have\", \"when's\": \"when is\", \"when've\": \"when have\", \"where'd\": \"where did\", \"where's\": \"where is\", \"where've\": \"where have\", \"who'll\": \"who will\", \"who'll've\": \"who will have\", \"who's\": \"who is\", \"who've\": \"who have\", \"why's\": \"why is\", \"why've\": \"why have\", \"will've\": \"will have\", \"won't\": \"will not\", \"won't've\": \"will not have\", \"would've\": \"would have\", \"wouldn't\": \"would not\", \"wouldn't've\": \"would not have\", \"y'all\": \"you all\", \"y'all'd\": \"you all would\",\"y'all'd've\": \"you all would have\",\"y'all're\": \"you all are\",\"y'all've\": \"you all have\",\"you'd\": \"you would\", \"you'd've\": \"you would have\"}"
   ]
  },
  {
   "cell_type": "code",
   "execution_count": 6,
   "metadata": {},
   "outputs": [],
   "source": [
    "def visualize_lengths(data,title):\n",
    "    '''Visualizing lengths of tokens in each tweet'''\n",
    "    lengths = [len(i) for i in data]\n",
    "    plt.figure(figsize=(13,6))\n",
    "    plt.hist(lengths, bins = 40)\n",
    "    plt.title(title)\n",
    "    plt.show()\n",
    "\n",
    "def create_remove_component(component_name, stuff_to_remove):\n",
    "    @Language.component(component_name)\n",
    "    def remove_from_list(doc):\n",
    "        '''Function that removes specific items from list of tokens'''\n",
    "        new_tokens = [token for token in doc if token.text not in stuff_to_remove]\n",
    "        return Doc(doc.vocab, words=[token.text for token in new_tokens])\n",
    "    return remove_from_list\n",
    "\n",
    "@Language.component(\"remove_links\")\n",
    "def remove_links(doc):\n",
    "    tokens = [token for token in doc if not token.like_url]\n",
    "    return Doc(doc.vocab, words=[t.text for t in tokens])\n",
    "\n",
    "@Language.component(\"correct_spellings\")\n",
    "def correct_spellings(doc):\n",
    "    corrected_text = []\n",
    "    for token in doc:\n",
    "        corrected_text.append(spell.correction(token))\n",
    "    return corrected_text\n",
    "\n",
    "\n",
    "# Expanding contractions and colloquial language\n",
    "def replace_colloquials(component_name, dic):\n",
    "    @Language.component(component_name)\n",
    "    def replace_from_dict(doc):\n",
    "        new_tokens = []\n",
    "        for token in doc:\n",
    "            if token.text.lower() in dic.keys():\n",
    "                new_tokens.extend(dic[token.text.lower()].split())\n",
    "            else:\n",
    "                new_tokens.append(token.text)\n",
    "        new_doc = Doc(nlp.vocab, new_tokens)\n",
    "        return new_doc\n",
    "    return replace_from_dict\n",
    "\n",
    "@Language.component(\"replace_colloquial\")\n",
    "def extract_emojis():\n",
    "    return [c for c in s if c not in emoji.UNICODE_EMOJI]\n",
    "\n",
    "@Language.component(\"set_max_length\")\n",
    "def limit_length(x, max_tokens, min_tokens):\n",
    "    ''' Inputs a list and drops it out of the document if the document has more than the max and less than the min'''\n",
    "    output = x\n",
    "    if len(x) > max_tokens:\n",
    "        output = np.nan\n",
    "    if len(x) <= min_tokens:\n",
    "        output = np.nan\n",
    "    return output\n",
    "\n",
    "def add_to_pipeline(nlp, component_name, before=None, after=None):\n",
    "    if component_name in nlp.pipe_names:\n",
    "        nlp.remove_pipe(component_name)\n",
    "    if before is not None:\n",
    "        nlp.add_pipe(component_name, before=before)\n",
    "    elif after is not None:\n",
    "        nlp.add_pipe(component_name, after=after)\n",
    "\n",
    "#SECTION maybe can remove punctuation"
   ]
  },
  {
   "cell_type": "code",
   "execution_count": 7,
   "metadata": {},
   "outputs": [],
   "source": [
    "def modify_pipeline():\n",
    "    '''tokenizer function that takes in pandas series and returns pandas series'''\n",
    "    \n",
    "    # 3. Removing the punctuation\n",
    "    \n",
    "    create_remove_component(\"remove_punctuation\", puncts)\n",
    "    add_to_pipeline(nlp, \"remove_punctuation\", before = \"tok2vec\")\n",
    "    \n",
    "#     # 3.1. Removing links\n",
    "    create_remove_component(\"remove_links\", puncts)\n",
    "    add_to_pipeline(nlp, \"remove_links\", before = \"tok2vec\")\n",
    "    \n",
    "#     print(f'3. Removed the links. Shape is still {data.shape}. \\n \\n Peek: \\n {data.head()}')\n",
    "#     visualize_lengths(data, 'Length of Tokens after Step 3')\n",
    "\n",
    "#     # 4. Checking for and correcting mispellings\n",
    "#     spell = SpellChecker()\n",
    "    \n",
    "#     # Skipping this step first because it takes way too long\n",
    "# #     data = data.progress_apply(correct_spellings)\n",
    "    \n",
    "#     print(f'4. Applied automispelling corrections. Shape is still {data.shape}. \\n \\n Peek: \\n {data.head()}')\n",
    "    \n",
    "    \n",
    "#     # 5. Removing the stop words, utilizing the same remove_from_list function defined above\n",
    "    \n",
    "#     data = data.progress_apply(remove_from_list, stuff_to_remove = stop_words)\n",
    "    \n",
    "#     print(f'5. Removed the stop words. Shape is still {data.shape}. \\n \\n Peek: \\n {data.head()}')\n",
    "#     visualize_lengths(data, 'Length of Tokens after Step 4')\n",
    "    \n",
    "#     # 6. Expanding contractions and colloquial language\n",
    "    \n",
    "#     data = data.progress_apply(replace_from_dict, dic = contraction_colloq_dict)\n",
    "#     print(f'6. Expanded contractions into extra tokens. Shape is still {data.shape}. \\n \\n Peek: \\n {data.head()}')\n",
    "#     visualize_lengths(data, 'Length of Tokens after Step 5')\n",
    "    \n",
    "#     # 8. Lemmatization\n",
    "\n",
    "#     data = data.progress_apply(lemmatize_list)\n",
    "#     print(f'8. Lemmatized the tokens. Shape is still {data.shape}. \\n \\n Peek: \\n {data.head()}')\n",
    "#     visualize_lengths(data, 'Length of Tokens after Step 8')   \n",
    "   \n",
    "#     # Removing again to make sure I get everything\n",
    "#     data = data.progress_apply(remove_from_list, stuff_to_remove = puncts)\n",
    "\n",
    "#     # 9.1. Removing emojis -- (UPDATE) in a way that preserves Series indexes\n",
    "    \n",
    "#     unique_emojis = [i[0] for i in emoji.UNICODE_EMOJI]\n",
    "#     data = data.apply(remove_from_list, stuff_to_remove = unique_emojis)\n",
    "    \n",
    "#     # 9.2. Removing numbers -- (UPDATE) also in a way that preserves Series indexes\n",
    "#     # Using nested list comprehension\n",
    "#     data = data.progress_apply(clean_numbers)\n",
    "    \n",
    "#     print(f'9. Removed emojis and numbers. Shape is still {data.shape}. \\n \\n Peek: \\n {data.head()}')\n",
    "#     visualize_lengths(data, 'Length of Tokens after Step 9')   \n",
    "    \n",
    "#     # 10. Limiting length of Tweet\n",
    "#     max_tokens = 50\n",
    "#     min_tokens = 5\n",
    "#     data = data.progress_apply(limit_length, min_tokens = min_tokens, max_tokens = max_tokens)\n",
    "#     # Dropping all nan values, which are the token limits that didn't meet the thresholding requirements\n",
    "#     data = data.dropna()\n",
    "#     print(f'10. Limited each tweet to a max of {max_tokens} tokens and a min of {min_tokens} tokens. Shape is now {data.shape}. \\n \\n Peek: \\n {data.head()}')\n",
    "#     visualize_lengths(data, 'Length of Tokens after Step 10')\n",
    "    \n",
    "    return "
   ]
  },
  {
   "cell_type": "markdown",
   "metadata": {},
   "source": [
    "Modify the pipeline and call it to return the tokenized user input"
   ]
  },
  {
   "cell_type": "code",
   "execution_count": 8,
   "metadata": {},
   "outputs": [
    {
     "name": "stdout",
     "output_type": "stream",
     "text": [
      "1. Original shape of data is (642,)\n",
      "3. Removed empty tokens and punctuation. Shape is still (642,). \n",
      " \n",
      " Peek: \n",
      " 0    (The, iPad, screen, is, frozen, in, landscape,...\n",
      "1         (OneDrive, not, syncing, files, or, folders)\n",
      "2    (Keyboard, backlight, not, working, as, expected)\n",
      "3             (My, Apple, Pencil, is, n't, responding)\n",
      "4    (Can, I, request, a, 3, day, medical, certific...\n",
      "Name: Input, dtype: object\n"
     ]
    },
    {
     "data": {
      "image/png": "[encoded data removed]",
      "text/plain": [
       "<Figure size 1300x600 with 1 Axes>"
      ]
     },
     "metadata": {},
     "output_type": "display_data"
    },
    {
     "data": {
      "text/plain": [
       "(270, Screen flickering uncontrollably )"
      ]
     },
     "execution_count": 8,
     "metadata": {},
     "output_type": "execute_result"
    }
   ],
   "source": [
    "# inbound = inbound.str.lower()\n",
    "\n",
    "modify_pipeline()\n",
    "\n",
    "print(f'1. Original shape of data is {inbound.shape}') # inbound = data['Inbound']\n",
    "\n",
    "processed_input = inbound.apply(nlp)\n",
    "print(f'3. Removed empty tokens and punctuation. Shape is still {processed_input.shape}. \\n \\n Peek: \\n {processed_input.head()}')\n",
    "visualize_lengths(processed_input, 'Length of Tokens after Punctuation removal')\n",
    "\n",
    "shortest_idx = processed_input.apply(len).idxmin()\n",
    "shortest_array = processed_input[shortest_idx]\n",
    "\n",
    "shortest_idx, shortest_array"
   ]
  },
  {
   "cell_type": "code",
   "execution_count": 9,
   "metadata": {},
   "outputs": [
    {
     "data": {
      "text/plain": [
       "0    (The, iPad, screen, is, frozen, in, landscape,...\n",
       "1         (OneDrive, not, syncing, files, or, folders)\n",
       "2    (Keyboard, backlight, not, working, as, expected)\n",
       "3             (My, Apple, Pencil, is, n't, responding)\n",
       "4    (Can, I, request, a, 3, day, medical, certific...\n",
       "Name: Input, dtype: object"
      ]
     },
     "execution_count": 9,
     "metadata": {},
     "output_type": "execute_result"
    }
   ],
   "source": [
    "processed_input.head()\n"
   ]
  },
  {
   "cell_type": "markdown",
   "metadata": {},
   "source": [
    "Return a DF of the original and processed data"
   ]
  },
  {
   "cell_type": "code",
   "execution_count": 10,
   "metadata": {},
   "outputs": [
    {
     "data": {
      "text/html": [
       "<div>\n",
       "<style scoped>\n",
       "    .dataframe tbody tr th:only-of-type {\n",
       "        vertical-align: middle;\n",
       "    }\n",
       "\n",
       "    .dataframe tbody tr th {\n",
       "        vertical-align: top;\n",
       "    }\n",
       "\n",
       "    .dataframe thead th {\n",
       "        text-align: right;\n",
       "    }\n",
       "</style>\n",
       "<table border=\"1\" class=\"dataframe\">\n",
       "  <thead>\n",
       "    <tr style=\"text-align: right;\">\n",
       "      <th></th>\n",
       "      <th>Processed Input</th>\n",
       "      <th>Real Input</th>\n",
       "      <th>Label</th>\n",
       "    </tr>\n",
       "  </thead>\n",
       "  <tbody>\n",
       "    <tr>\n",
       "      <th>0</th>\n",
       "      <td>(The, iPad, screen, is, frozen, in, landscape,...</td>\n",
       "      <td>The iPad screen is frozen in landscape or port...</td>\n",
       "      <td>Others</td>\n",
       "    </tr>\n",
       "    <tr>\n",
       "      <th>1</th>\n",
       "      <td>(OneDrive, not, syncing, files, or, folders)</td>\n",
       "      <td>OneDrive not syncing files or folders.</td>\n",
       "      <td>Others</td>\n",
       "    </tr>\n",
       "    <tr>\n",
       "      <th>2</th>\n",
       "      <td>(Keyboard, backlight, not, working, as, expected)</td>\n",
       "      <td>Keyboard backlight not working as expected.</td>\n",
       "      <td>Others</td>\n",
       "    </tr>\n",
       "    <tr>\n",
       "      <th>3</th>\n",
       "      <td>(My, Apple, Pencil, is, n't, responding)</td>\n",
       "      <td>My Apple Pencil isn't responding.</td>\n",
       "      <td>Others</td>\n",
       "    </tr>\n",
       "    <tr>\n",
       "      <th>4</th>\n",
       "      <td>(Can, I, request, a, 3, day, medical, certific...</td>\n",
       "      <td>Can I request a 3-day medical certificate star...</td>\n",
       "      <td>MC</td>\n",
       "    </tr>\n",
       "    <tr>\n",
       "      <th>...</th>\n",
       "      <td>...</td>\n",
       "      <td>...</td>\n",
       "      <td>...</td>\n",
       "    </tr>\n",
       "    <tr>\n",
       "      <th>637</th>\n",
       "      <td>(Hey, I, 'm, taking, a, sick, day, from, schoo...</td>\n",
       "      <td>Hey, I'm taking a sick day from school because...</td>\n",
       "      <td>Others</td>\n",
       "    </tr>\n",
       "    <tr>\n",
       "      <th>638</th>\n",
       "      <td>(Right, click, context, menu, not, appearing, ...</td>\n",
       "      <td>Right-click context menu not appearing when ta...</td>\n",
       "      <td>Others</td>\n",
       "    </tr>\n",
       "    <tr>\n",
       "      <th>639</th>\n",
       "      <td>(My, Apple, Pencil, is, not, in, working, cond...</td>\n",
       "      <td>My Apple Pencil is not in working condition.</td>\n",
       "      <td>Others</td>\n",
       "    </tr>\n",
       "    <tr>\n",
       "      <th>640</th>\n",
       "      <td>(Software, update, needed, to, fix, internet, ...</td>\n",
       "      <td>Software update needed to fix internet connect...</td>\n",
       "      <td>Others</td>\n",
       "    </tr>\n",
       "    <tr>\n",
       "      <th>641</th>\n",
       "      <td>(Incorrect, Wi, Fi, password, entered, on, the...</td>\n",
       "      <td>Incorrect Wi-Fi password entered on the iPad.</td>\n",
       "      <td>Others</td>\n",
       "    </tr>\n",
       "  </tbody>\n",
       "</table>\n",
       "<p>642 rows × 3 columns</p>\n",
       "</div>"
      ],
      "text/plain": [
       "                                       Processed Input  \\\n",
       "0    (The, iPad, screen, is, frozen, in, landscape,...   \n",
       "1         (OneDrive, not, syncing, files, or, folders)   \n",
       "2    (Keyboard, backlight, not, working, as, expected)   \n",
       "3             (My, Apple, Pencil, is, n't, responding)   \n",
       "4    (Can, I, request, a, 3, day, medical, certific...   \n",
       "..                                                 ...   \n",
       "637  (Hey, I, 'm, taking, a, sick, day, from, schoo...   \n",
       "638  (Right, click, context, menu, not, appearing, ...   \n",
       "639  (My, Apple, Pencil, is, not, in, working, cond...   \n",
       "640  (Software, update, needed, to, fix, internet, ...   \n",
       "641  (Incorrect, Wi, Fi, password, entered, on, the...   \n",
       "\n",
       "                                            Real Input   Label  \n",
       "0    The iPad screen is frozen in landscape or port...  Others  \n",
       "1               OneDrive not syncing files or folders.  Others  \n",
       "2          Keyboard backlight not working as expected.  Others  \n",
       "3                    My Apple Pencil isn't responding.  Others  \n",
       "4    Can I request a 3-day medical certificate star...      MC  \n",
       "..                                                 ...     ...  \n",
       "637  Hey, I'm taking a sick day from school because...  Others  \n",
       "638  Right-click context menu not appearing when ta...  Others  \n",
       "639       My Apple Pencil is not in working condition.  Others  \n",
       "640  Software update needed to fix internet connect...  Others  \n",
       "641      Incorrect Wi-Fi password entered on the iPad.  Others  \n",
       "\n",
       "[642 rows x 3 columns]"
      ]
     },
     "execution_count": 10,
     "metadata": {},
     "output_type": "execute_result"
    }
   ],
   "source": [
    "label = data['Intent']\n",
    "real_input = data['Input']\n",
    "\n",
    "processed = pd.DataFrame({'Processed Input': processed_input, 'Real Input': real_input, 'Label': label})\n",
    "\n",
    "processed"
   ]
  },
  {
   "cell_type": "code",
   "execution_count": 11,
   "metadata": {},
   "outputs": [],
   "source": [
    "processed_input.to_pickle('objects/processed_input.pkl')\n",
    "processed.to_pickle('objects/processed.pkl')"
   ]
  },
  {
   "cell_type": "code",
   "execution_count": null,
   "metadata": {},
   "outputs": [],
   "source": []
  }
 ],
 "metadata": {
  "kernelspec": {
   "display_name": "chatbot",
   "language": "python",
   "name": "python3"
  },
  "language_info": {
   "codemirror_mode": {
    "name": "ipython",
    "version": 3
   },
   "file_extension": ".py",
   "mimetype": "text/x-python",
   "name": "python",
   "nbconvert_exporter": "python",
   "pygments_lexer": "ipython3",
   "version": "3.11.5"
  },
  "orig_nbformat": 4
 },
 "nbformat": 4,
 "nbformat_minor": 2
}
