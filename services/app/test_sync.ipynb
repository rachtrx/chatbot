{
 "cells": [
  {
   "cell_type": "code",
   "execution_count": 24,
   "metadata": {},
   "outputs": [
    {
     "name": "stdout",
     "output_type": "stream",
     "text": [
      "<class 'pandas.core.frame.DataFrame'>\n",
      "RangeIndex: 2 entries, 0 to 1\n",
      "Data columns (total 5 columns):\n",
      " #   Column             Non-Null Count  Dtype \n",
      "---  ------             --------------  ----- \n",
      " 0   name               2 non-null      object\n",
      " 1   number             2 non-null      int64 \n",
      " 2   email              2 non-null      object\n",
      " 3   reporting_officer  2 non-null      object\n",
      " 4   hod                2 non-null      object\n",
      "dtypes: int64(1), object(4)\n",
      "memory usage: 212.0+ bytes\n",
      "<class 'pandas.core.frame.DataFrame'>\n",
      "RangeIndex: 2 entries, 0 to 1\n",
      "Data columns (total 5 columns):\n",
      " #   Column             Non-Null Count  Dtype \n",
      "---  ------             --------------  ----- \n",
      " 0   name               2 non-null      object\n",
      " 1   number             2 non-null      int64 \n",
      " 2   email              2 non-null      object\n",
      " 3   reporting_officer  2 non-null      object\n",
      " 4   hod                2 non-null      object\n",
      "dtypes: int64(1), object(4)\n",
      "memory usage: 212.0+ bytes\n"
     ]
    },
    {
     "data": {
      "text/plain": [
       "(None, None)"
      ]
     },
     "execution_count": 24,
     "metadata": {},
     "output_type": "execute_result"
    }
   ],
   "source": [
    "import pandas as pd\n",
    "import openpyxl\n",
    "import sqlite3\n",
    "\n",
    "sh_users = pd.read_excel('users.xlsx')\n",
    "sh_users.sort_values(by=\"name\", inplace=True)\n",
    "\n",
    "conn = sqlite3.connect('users.db')\n",
    "cursor = conn.cursor()\n",
    "\n",
    "cursor.execute('SELECT * FROM users ORDER BY name ASC')\n",
    "db_users = cursor.fetchall()\n",
    "\n",
    "conn.commit()\n",
    "conn.close()\n",
    "\n",
    "column_names = [description[0] for description in cursor.description]\n",
    "db_users = pd.DataFrame(db_users, columns=column_names)\n",
    "\n",
    "sh_users.info(), db_users.info()"
   ]
  },
  {
   "cell_type": "code",
   "execution_count": 25,
   "metadata": {},
   "outputs": [
    {
     "data": {
      "text/html": [
       "<div>\n",
       "<style scoped>\n",
       "    .dataframe tbody tr th:only-of-type {\n",
       "        vertical-align: middle;\n",
       "    }\n",
       "\n",
       "    .dataframe tbody tr th {\n",
       "        vertical-align: top;\n",
       "    }\n",
       "\n",
       "    .dataframe thead th {\n",
       "        text-align: right;\n",
       "    }\n",
       "</style>\n",
       "<table border=\"1\" class=\"dataframe\">\n",
       "  <thead>\n",
       "    <tr style=\"text-align: right;\">\n",
       "      <th></th>\n",
       "      <th>name</th>\n",
       "      <th>number</th>\n",
       "      <th>email</th>\n",
       "      <th>reporting_officer</th>\n",
       "      <th>hod</th>\n",
       "    </tr>\n",
       "  </thead>\n",
       "  <tbody>\n",
       "    <tr>\n",
       "      <th>0</th>\n",
       "      <td>Rachmiel Teo Ren Xiang</td>\n",
       "      <td>3333</td>\n",
       "      <td>rach@go.edu.sg</td>\n",
       "      <td>fong_chee_kiang@go.edu.sg</td>\n",
       "      <td>lim_zong_han@go.edu.sg</td>\n",
       "    </tr>\n",
       "    <tr>\n",
       "      <th>1</th>\n",
       "      <td>Shawn Tan Minyi</td>\n",
       "      <td>23456789</td>\n",
       "      <td>shawn@go.edu.sg</td>\n",
       "      <td>fong_chee_kiang@go.edu.sg</td>\n",
       "      <td>lim_zong_han@go.edu.sg</td>\n",
       "    </tr>\n",
       "  </tbody>\n",
       "</table>\n",
       "</div>"
      ],
      "text/plain": [
       "                     name    number            email  \\\n",
       "0  Rachmiel Teo Ren Xiang      3333   rach@go.edu.sg   \n",
       "1         Shawn Tan Minyi  23456789  shawn@go.edu.sg   \n",
       "\n",
       "           reporting_officer                     hod  \n",
       "0  fong_chee_kiang@go.edu.sg  lim_zong_han@go.edu.sg  \n",
       "1  fong_chee_kiang@go.edu.sg  lim_zong_han@go.edu.sg  "
      ]
     },
     "execution_count": 25,
     "metadata": {},
     "output_type": "execute_result"
    }
   ],
   "source": [
    "exact_match = sh_users.equals(db_users)\n",
    "\n",
    "if not exact_match:\n",
    "    # create 2 dataframes to compare\n",
    "    old_users = pd.merge(sh_users, db_users, how=\"outer\", indicator=True).query('_merge == \"right_only\"').drop(columns='_merge')\n",
    "    new_users = pd.merge(sh_users, db_users, how=\"outer\", indicator=True).query('_merge == \"left_only\"').drop(columns='_merge')\n",
    "\n",
    "db_users"
   ]
  },
  {
   "cell_type": "code",
   "execution_count": 26,
   "metadata": {},
   "outputs": [
    {
     "data": {
      "text/html": [
       "<div>\n",
       "<style scoped>\n",
       "    .dataframe tbody tr th:only-of-type {\n",
       "        vertical-align: middle;\n",
       "    }\n",
       "\n",
       "    .dataframe tbody tr th {\n",
       "        vertical-align: top;\n",
       "    }\n",
       "\n",
       "    .dataframe thead th {\n",
       "        text-align: right;\n",
       "    }\n",
       "</style>\n",
       "<table border=\"1\" class=\"dataframe\">\n",
       "  <thead>\n",
       "    <tr style=\"text-align: right;\">\n",
       "      <th></th>\n",
       "      <th>name</th>\n",
       "      <th>number</th>\n",
       "      <th>email</th>\n",
       "      <th>reporting_officer</th>\n",
       "      <th>hod</th>\n",
       "    </tr>\n",
       "  </thead>\n",
       "  <tbody>\n",
       "    <tr>\n",
       "      <th>2</th>\n",
       "      <td>Rachmiel Teo Ren Xiang</td>\n",
       "      <td>23456</td>\n",
       "      <td>rach@go.edu.sg</td>\n",
       "      <td>fong_chee_kiang@go.edu.sg</td>\n",
       "      <td>lim_zong_han@go.edu.sg</td>\n",
       "    </tr>\n",
       "  </tbody>\n",
       "</table>\n",
       "</div>"
      ],
      "text/plain": [
       "                     name  number           email          reporting_officer  \\\n",
       "2  Rachmiel Teo Ren Xiang   23456  rach@go.edu.sg  fong_chee_kiang@go.edu.sg   \n",
       "\n",
       "                      hod  \n",
       "2  lim_zong_han@go.edu.sg  "
      ]
     },
     "execution_count": 26,
     "metadata": {},
     "output_type": "execute_result"
    }
   ],
   "source": [
    "old_users"
   ]
  },
  {
   "cell_type": "code",
   "execution_count": 27,
   "metadata": {},
   "outputs": [
    {
     "data": {
      "text/html": [
       "<div>\n",
       "<style scoped>\n",
       "    .dataframe tbody tr th:only-of-type {\n",
       "        vertical-align: middle;\n",
       "    }\n",
       "\n",
       "    .dataframe tbody tr th {\n",
       "        vertical-align: top;\n",
       "    }\n",
       "\n",
       "    .dataframe thead th {\n",
       "        text-align: right;\n",
       "    }\n",
       "</style>\n",
       "<table border=\"1\" class=\"dataframe\">\n",
       "  <thead>\n",
       "    <tr style=\"text-align: right;\">\n",
       "      <th></th>\n",
       "      <th>name</th>\n",
       "      <th>number</th>\n",
       "      <th>email</th>\n",
       "      <th>reporting_officer</th>\n",
       "      <th>hod</th>\n",
       "    </tr>\n",
       "  </thead>\n",
       "  <tbody>\n",
       "    <tr>\n",
       "      <th>0</th>\n",
       "      <td>Rachmiel Teo Ren Xiang</td>\n",
       "      <td>3333</td>\n",
       "      <td>rach@go.edu.sg</td>\n",
       "      <td>fong_chee_kiang@go.edu.sg</td>\n",
       "      <td>lim_zong_han@go.edu.sg</td>\n",
       "    </tr>\n",
       "  </tbody>\n",
       "</table>\n",
       "</div>"
      ],
      "text/plain": [
       "                     name  number           email          reporting_officer  \\\n",
       "0  Rachmiel Teo Ren Xiang    3333  rach@go.edu.sg  fong_chee_kiang@go.edu.sg   \n",
       "\n",
       "                      hod  \n",
       "0  lim_zong_han@go.edu.sg  "
      ]
     },
     "execution_count": 27,
     "metadata": {},
     "output_type": "execute_result"
    }
   ],
   "source": [
    "new_users"
   ]
  },
  {
   "cell_type": "code",
   "execution_count": 29,
   "metadata": {},
   "outputs": [],
   "source": [
    "old_users_tuples = [tuple(old_user) for old_user in old_users.values]\n",
    "new_users_tuples = [tuple(new_user) for new_user in new_users.values]\n",
    "\n",
    "conn = sqlite3.connect('users.db')\n",
    "cursor = conn.cursor()\n",
    "\n",
    "for name, number, email, reporting_officer, hod in old_users_tuples:\n",
    "    cursor.execute('DELETE FROM users WHERE name = ?', (name,))\n",
    "    \n",
    "for name, number, email, reporting_officer, hod in new_users_tuples:\n",
    "    cursor.execute('INSERT INTO users (name, number, email, reporting_officer, hod) VALUES (?, ?, ?, ?, ?)', (name, number, email, reporting_officer, hod))\n",
    "\n",
    "conn.commit()\n",
    "conn.close()"
   ]
  },
  {
   "cell_type": "code",
   "execution_count": null,
   "metadata": {},
   "outputs": [],
   "source": []
  },
  {
   "cell_type": "code",
   "execution_count": null,
   "metadata": {},
   "outputs": [],
   "source": []
  }
 ],
 "metadata": {
  "kernelspec": {
   "display_name": "chatbot",
   "language": "python",
   "name": "python3"
  },
  "language_info": {
   "codemirror_mode": {
    "name": "ipython",
    "version": 3
   },
   "file_extension": ".py",
   "mimetype": "text/x-python",
   "name": "python",
   "nbconvert_exporter": "python",
   "pygments_lexer": "ipython3",
   "version": "3.11.5"
  },
  "orig_nbformat": 4
 },
 "nbformat": 4,
 "nbformat_minor": 2
}
