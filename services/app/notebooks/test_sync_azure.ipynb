{
 "cells": [
  {
   "cell_type": "code",
   "execution_count": 15,
   "metadata": {},
   "outputs": [
    {
     "name": "stdout",
     "output_type": "stream",
     "text": [
      "{'token_type': 'Bearer', 'expires_in': 3599, 'ext_expires_in': 3599, 'access_token': 'eyJ0eXAiOiJKV1QiLCJub25jZSI6InQ1VGRzbmxBN1l2VnZVeHRteGxDQmY4V2hYWmNGNnpzS3hTQVZYZHlFUjAiLCJhbGciOiJSUzI1NiIsIng1dCI6Ii1LSTNROW5OUjdiUm9meG1lWm9YcWJIWkdldyIsImtpZCI6Ii1LSTNROW5OUjdiUm9meG1lWm9YcWJIWkdldyJ9.eyJhdWQiOiJodHRwczovL2dyYXBoLm1pY3Jvc29mdC5jb20iLCJpc3MiOiJodHRwczovL3N0cy53aW5kb3dzLm5ldC9jODE5ZjQyZC02ODhmLTRjODUtYmJjNi0xY2EwNWZkMjMzMGEvIiwiaWF0IjoxNjk2MzE5ODcyLCJuYmYiOjE2OTYzMTk4NzIsImV4cCI6MTY5NjMyMzc3MiwiYWlvIjoiRTJGZ1lFaHYrbjVIUnl1NXQyQmpoMCtReHZIakFBPT0iLCJhcHBfZGlzcGxheW5hbWUiOiJRdWVyeSBNUyBHcmFwaCIsImFwcGlkIjoiNmRlMzk4ZDQtODM5NC00MTI0LWIxYmUtNWFhYmUxNGE3ZDFmIiwiYXBwaWRhY3IiOiIxIiwiaWRwIjoiaHR0cHM6Ly9zdHMud2luZG93cy5uZXQvYzgxOWY0MmQtNjg4Zi00Yzg1LWJiYzYtMWNhMDVmZDIzMzBhLyIsImlkdHlwIjoiYXBwIiwib2lkIjoiZGYzOTEyYWQtZTNhZi00MWZhLTk4ZjYtMGViODdhMzZiYzYwIiwicmgiOiIwLkFYSUFMZlFaeUk5b2hVeTd4aHlnWDlJekNnTUFBQUFBQUFBQXdBQUFBQUFBQUFCeUFBQS4iLCJyb2xlcyI6WyJTaXRlcy5SZWFkLkFsbCIsIkZpbGVzLlJlYWQuQWxsIl0sInN1YiI6ImRmMzkxMmFkLWUzYWYtNDFmYS05OGY2LTBlYjg3YTM2YmM2MCIsInRlbmFudF9yZWdpb25fc2NvcGUiOiJBUyIsInRpZCI6ImM4MTlmNDJkLTY4OGYtNGM4NS1iYmM2LTFjYTA1ZmQyMzMwYSIsInV0aSI6InpFNTV5OHJSbUVPWXJhT25Lb0JJQUEiLCJ2ZXIiOiIxLjAiLCJ3aWRzIjpbIjA5OTdhMWQwLTBkMWQtNGFjYi1iNDA4LWQ1Y2E3MzEyMWU5MCJdLCJ4bXNfdGNkdCI6MTQ1ODk3MTA5MX0.pFEcVGr9I_JsCqdZwCjc5550KMWppBrsb_bHf7t4WjU_N8t4m8VjRKU1ZNBPvrMu-g61mFYHyjoRc0MVd9FQebSB0dUl0sJ_LeZM20yK68qNY_xQkJZUcbjlkTHJzCM1py1MMTJuvTrRO_bEv4pU8-bt_6Q6dravShSudHEnheAfQGltEcWPBNeA2FkrPyM-cNP0UlPzZAzi8o3luppxNb-2ZMIzJ9yHgIFKPLLLBmU81Wy_Sy3UzArjWaxCMGsuzGy30fJQaycZU_9yDTMUMH6B8P7qWXbeQHmuGQNarqDPmKeurGpLGxYNSq27WbYjApLvbxLdH7CIsI2_jrb87g'}\n",
      "New access token Bearer eyJ0eXAiOiJKV1QiLCJub25jZSI6InQ1VGRzbmxBN1l2VnZVeHRteGxDQmY4V2hYWmNGNnpzS3hTQVZYZHlFUjAiLCJhbGciOiJSUzI1NiIsIng1dCI6Ii1LSTNROW5OUjdiUm9meG1lWm9YcWJIWkdldyIsImtpZCI6Ii1LSTNROW5OUjdiUm9meG1lWm9YcWJIWkdldyJ9.eyJhdWQiOiJodHRwczovL2dyYXBoLm1pY3Jvc29mdC5jb20iLCJpc3MiOiJodHRwczovL3N0cy53aW5kb3dzLm5ldC9jODE5ZjQyZC02ODhmLTRjODUtYmJjNi0xY2EwNWZkMjMzMGEvIiwiaWF0IjoxNjk2MzE5ODcyLCJuYmYiOjE2OTYzMTk4NzIsImV4cCI6MTY5NjMyMzc3MiwiYWlvIjoiRTJGZ1lFaHYrbjVIUnl1NXQyQmpoMCtReHZIakFBPT0iLCJhcHBfZGlzcGxheW5hbWUiOiJRdWVyeSBNUyBHcmFwaCIsImFwcGlkIjoiNmRlMzk4ZDQtODM5NC00MTI0LWIxYmUtNWFhYmUxNGE3ZDFmIiwiYXBwaWRhY3IiOiIxIiwiaWRwIjoiaHR0cHM6Ly9zdHMud2luZG93cy5uZXQvYzgxOWY0MmQtNjg4Zi00Yzg1LWJiYzYtMWNhMDVmZDIzMzBhLyIsImlkdHlwIjoiYXBwIiwib2lkIjoiZGYzOTEyYWQtZTNhZi00MWZhLTk4ZjYtMGViODdhMzZiYzYwIiwicmgiOiIwLkFYSUFMZlFaeUk5b2hVeTd4aHlnWDlJekNnTUFBQUFBQUFBQXdBQUFBQUFBQUFCeUFBQS4iLCJyb2xlcyI6WyJTaXRlcy5SZWFkLkFsbCIsIkZpbGVzLlJlYWQuQWxsIl0sInN1YiI6ImRmMzkxMmFkLWUzYWYtNDFmYS05OGY2LTBlYjg3YTM2YmM2MCIsInRlbmFudF9yZWdpb25fc2NvcGUiOiJBUyIsInRpZCI6ImM4MTlmNDJkLTY4OGYtNGM4NS1iYmM2LTFjYTA1ZmQyMzMwYSIsInV0aSI6InpFNTV5OHJSbUVPWXJhT25Lb0JJQUEiLCJ2ZXIiOiIxLjAiLCJ3aWRzIjpbIjA5OTdhMWQwLTBkMWQtNGFjYi1iNDA4LWQ1Y2E3MzEyMWU5MCJdLCJ4bXNfdGNkdCI6MTQ1ODk3MTA5MX0.pFEcVGr9I_JsCqdZwCjc5550KMWppBrsb_bHf7t4WjU_N8t4m8VjRKU1ZNBPvrMu-g61mFYHyjoRc0MVd9FQebSB0dUl0sJ_LeZM20yK68qNY_xQkJZUcbjlkTHJzCM1py1MMTJuvTrRO_bEv4pU8-bt_6Q6dravShSudHEnheAfQGltEcWPBNeA2FkrPyM-cNP0UlPzZAzi8o3luppxNb-2ZMIzJ9yHgIFKPLLLBmU81Wy_Sy3UzArjWaxCMGsuzGy30fJQaycZU_9yDTMUMH6B8P7qWXbeQHmuGQNarqDPmKeurGpLGxYNSq27WbYjApLvbxLdH7CIsI2_jrb87g was acquired from Azure AD\n",
      "[88584969, 84885787, 23456789]\n",
      "user info: [['Rachmiel Teo Ren Xiang', 88584969, 'rach@go.edu.sg', 'Shawn Tan Minyi', 23456789, 'shawn@go.edu.sg', 'Lim Zong Han', 90020167, 'zonghan@go.edu.sg']]\n"
     ]
    }
   ],
   "source": [
    "from dotenv import load_dotenv\n",
    "import os\n",
    "import msal\n",
    "import requests\n",
    "import json\n",
    "\n",
    "NUMBER_INDEX = 1\n",
    "\n",
    "env_path = os.path.join(os.getcwd(), '.env')\n",
    "load_dotenv(dotenv_path=env_path)\n",
    "\n",
    "USERS_TABLE_URL = f\"https://graph.microsoft.com/v1.0/drives/{os.environ.get('DRIVE_ID')}/items/{os.environ.get('USERS_FILE_ID')}/workbook/worksheets/{os.environ.get('USERS_SHEET_ID')}/tables('MainTable')/rows\"\n",
    "\n",
    "# Enter details of AAD app registration\n",
    "\n",
    "config = {\n",
    "    'client_id': os.environ.get('CLIENT_ID'),\n",
    "    'client_secret': os.environ.get('CLIENT_SECRET'),\n",
    "    'authority': os.environ.get('AUTHORITY'),\n",
    "    'scope': [os.environ.get('SCOPE')],\n",
    "    'site_id': os.environ.get('SITE_ID'),\n",
    "}\n",
    "\n",
    "\n",
    "def get_user_info(from_number, msal_instance, scope):\n",
    "    '''Returns a 2D list containing the user details within the inner array'''\n",
    "\n",
    "    # First, try to lookup an access token in cache\n",
    "    token_result = msal_instance.acquire_token_silent(scope, account=None)\n",
    "\n",
    "    # If the token is available in cache, save it to a variable\n",
    "    if token_result:\n",
    "        print('Access token was loaded from cache')\n",
    "\n",
    "    # If the token is not available in cache, acquire a new one from Azure AD and save it to a variable\n",
    "    if not token_result:\n",
    "        token_result = msal_instance.acquire_token_for_client(scopes=scope)\n",
    "        print(token_result)\n",
    "        access_token = 'Bearer ' + token_result['access_token']\n",
    "        print(f'New access token {access_token} was acquired from Azure AD')\n",
    "\n",
    "\n",
    "    # Copy access_toek and specify the MS Graph API endpoint you want to call, e.g. '\n",
    "    headers = {\n",
    "        'Authorization': access_token\n",
    "    }\n",
    "\n",
    "    # Make a GET request to the provided url, passing the access token in a header\n",
    "    graph_result = requests.get(url=USERS_TABLE_URL, headers=headers)\n",
    "\n",
    "    print([info[1] for object_info in graph_result.json()['value'] for info in object_info['values']])\n",
    "\n",
    "    user_info = [info for object_info in graph_result.json()['value'] for info in object_info['values'] if int(info[NUMBER_INDEX]) == from_number]\n",
    "\n",
    "    print(f\"user info: {user_info}\")\n",
    "\n",
    "    return user_info # info is already a list so user_info is a 2D list\n",
    "\n",
    "\n",
    "# create an MSAL instance providing the client_id, authority and client_credential params\n",
    "def get_msal_instance():\n",
    "    return msal.ConfidentialClientApplication(config['client_id'], authority=config['authority'], client_credential=config['client_secret'])\n",
    "\n",
    "msal_instance = get_msal_instance()\n",
    "tables = get_user_info(88584969, msal_instance, config['scope'])"
   ]
  },
  {
   "cell_type": "code",
   "execution_count": null,
   "metadata": {},
   "outputs": [],
   "source": []
  }
 ],
 "metadata": {
  "kernelspec": {
   "display_name": "chatbot",
   "language": "python",
   "name": "python3"
  },
  "language_info": {
   "codemirror_mode": {
    "name": "ipython",
    "version": 3
   },
   "file_extension": ".py",
   "mimetype": "text/x-python",
   "name": "python",
   "nbconvert_exporter": "python",
   "pygments_lexer": "ipython3",
   "version": "3.11.5"
  },
  "orig_nbformat": 4
 },
 "nbformat": 4,
 "nbformat_minor": 2
}
